{
  "nbformat": 4,
  "nbformat_minor": 0,
  "metadata": {
    "colab": {
      "provenance": [],
      "collapsed_sections": [
        "hEz92NaUsCvS",
        "Rs3jrBmjs_Ha",
        "KrGNCvaMo4b4"
      ],
      "authorship_tag": "ABX9TyMe+LEPbyywbQ/MRY2YorfI",
      "include_colab_link": true
    },
    "kernelspec": {
      "name": "python3",
      "display_name": "Python 3"
    },
    "language_info": {
      "name": "python"
    }
  },
  "cells": [
    {
      "cell_type": "markdown",
      "metadata": {
        "id": "view-in-github",
        "colab_type": "text"
      },
      "source": [
        "<a href=\"https://colab.research.google.com/github/Luz-Dobbins/Project-2/blob/main/Project_2_Part_2.ipynb\" target=\"_parent\"><img src=\"https://colab.research.google.com/assets/colab-badge.svg\" alt=\"Open In Colab\"/></a>"
      ]
    },
    {
      "cell_type": "code",
      "source": [
        "import pandas as pd"
      ],
      "metadata": {
        "id": "21jTrbvRqZgG"
      },
      "execution_count": null,
      "outputs": []
    },
    {
      "cell_type": "code",
      "execution_count": null,
      "metadata": {
        "colab": {
          "base_uri": "https://localhost:8080/"
        },
        "id": "8HxJK_eroA1Y",
        "outputId": "c5dfe25d-a767-4a24-cbbb-bad2350926e1"
      },
      "outputs": [
        {
          "output_type": "stream",
          "name": "stdout",
          "text": [
            "Drive already mounted at /content/drive; to attempt to forcibly remount, call drive.mount(\"/content/drive\", force_remount=True).\n"
          ]
        }
      ],
      "source": [
        "from google.colab import drive\n",
        "drive.mount('/content/drive')"
      ]
    },
    {
      "cell_type": "code",
      "source": [
        "import pandas as pd\n",
        "import numpy as np\n",
        "import seaborn as sns\n",
        "import matplotlib.pyplot as plt\n",
        "from sklearn.impute import SimpleImputer\n",
        "from sklearn.compose import make_column_selector, make_column_transformer\n",
        "from sklearn.metrics import ConfusionMatrixDisplay, classification_report\n",
        "from sklearn.model_selection import train_test_split, GridSearchCV\n",
        "from sklearn.neighbors import KNeighborsClassifier\n",
        "from sklearn.ensemble import RandomForestClassifier\n",
        "from sklearn.preprocessing import StandardScaler, OneHotEncoder\n",
        "from sklearn.pipeline import make_pipeline"
      ],
      "metadata": {
        "id": "OqcyXnsqVtyp"
      },
      "execution_count": null,
      "outputs": []
    },
    {
      "cell_type": "markdown",
      "source": [
        "#First choice: dataset 1"
      ],
      "metadata": {
        "id": "hEz92NaUsCvS"
      }
    },
    {
      "cell_type": "code",
      "source": [
        "filename = '/content/drive/MyDrive/Data/Metabolic  Syndrome.csv'\n",
        "ms_df = pd.read_csv(filename)\n",
        "ms_df.head()"
      ],
      "metadata": {
        "colab": {
          "base_uri": "https://localhost:8080/"
        },
        "id": "nGj3omPSoUhA",
        "outputId": "1fef991e-e7b7-4ab1-c5ea-0364f4f6a87b"
      },
      "execution_count": null,
      "outputs": [
        {
          "output_type": "execute_result",
          "data": {
            "text/plain": [
              "    seqn  Age     Sex  Marital  Income   Race  WaistCirc   BMI  Albuminuria  \\\n",
              "0  62161   22    Male   Single  8200.0  White       81.0  23.3            0   \n",
              "1  62164   44  Female  Married  4500.0  White       80.1  23.2            0   \n",
              "2  62169   21    Male   Single   800.0  Asian       69.6  20.1            0   \n",
              "3  62172   43  Female   Single  2000.0  Black      120.4  33.3            0   \n",
              "4  62177   51    Male  Married     NaN  Asian       81.1  20.1            0   \n",
              "\n",
              "   UrAlbCr  UricAcid  BloodGlucose  HDL  Triglycerides MetabolicSyndrome  \n",
              "0     3.88       4.9            92   41             84         No MetSyn  \n",
              "1     8.55       4.5            82   28             56         No MetSyn  \n",
              "2     5.07       5.4           107   43             78         No MetSyn  \n",
              "3     5.22       5.0           104   73            141         No MetSyn  \n",
              "4     8.13       5.0            95   43            126         No MetSyn  "
            ],
            "text/html": [
              "\n",
              "  <div id=\"df-1cd127c5-6845-42d1-b23d-30d2e62b9df5\">\n",
              "    <div class=\"colab-df-container\">\n",
              "      <div>\n",
              "<style scoped>\n",
              "    .dataframe tbody tr th:only-of-type {\n",
              "        vertical-align: middle;\n",
              "    }\n",
              "\n",
              "    .dataframe tbody tr th {\n",
              "        vertical-align: top;\n",
              "    }\n",
              "\n",
              "    .dataframe thead th {\n",
              "        text-align: right;\n",
              "    }\n",
              "</style>\n",
              "<table border=\"1\" class=\"dataframe\">\n",
              "  <thead>\n",
              "    <tr style=\"text-align: right;\">\n",
              "      <th></th>\n",
              "      <th>seqn</th>\n",
              "      <th>Age</th>\n",
              "      <th>Sex</th>\n",
              "      <th>Marital</th>\n",
              "      <th>Income</th>\n",
              "      <th>Race</th>\n",
              "      <th>WaistCirc</th>\n",
              "      <th>BMI</th>\n",
              "      <th>Albuminuria</th>\n",
              "      <th>UrAlbCr</th>\n",
              "      <th>UricAcid</th>\n",
              "      <th>BloodGlucose</th>\n",
              "      <th>HDL</th>\n",
              "      <th>Triglycerides</th>\n",
              "      <th>MetabolicSyndrome</th>\n",
              "    </tr>\n",
              "  </thead>\n",
              "  <tbody>\n",
              "    <tr>\n",
              "      <th>0</th>\n",
              "      <td>62161</td>\n",
              "      <td>22</td>\n",
              "      <td>Male</td>\n",
              "      <td>Single</td>\n",
              "      <td>8200.0</td>\n",
              "      <td>White</td>\n",
              "      <td>81.0</td>\n",
              "      <td>23.3</td>\n",
              "      <td>0</td>\n",
              "      <td>3.88</td>\n",
              "      <td>4.9</td>\n",
              "      <td>92</td>\n",
              "      <td>41</td>\n",
              "      <td>84</td>\n",
              "      <td>No MetSyn</td>\n",
              "    </tr>\n",
              "    <tr>\n",
              "      <th>1</th>\n",
              "      <td>62164</td>\n",
              "      <td>44</td>\n",
              "      <td>Female</td>\n",
              "      <td>Married</td>\n",
              "      <td>4500.0</td>\n",
              "      <td>White</td>\n",
              "      <td>80.1</td>\n",
              "      <td>23.2</td>\n",
              "      <td>0</td>\n",
              "      <td>8.55</td>\n",
              "      <td>4.5</td>\n",
              "      <td>82</td>\n",
              "      <td>28</td>\n",
              "      <td>56</td>\n",
              "      <td>No MetSyn</td>\n",
              "    </tr>\n",
              "    <tr>\n",
              "      <th>2</th>\n",
              "      <td>62169</td>\n",
              "      <td>21</td>\n",
              "      <td>Male</td>\n",
              "      <td>Single</td>\n",
              "      <td>800.0</td>\n",
              "      <td>Asian</td>\n",
              "      <td>69.6</td>\n",
              "      <td>20.1</td>\n",
              "      <td>0</td>\n",
              "      <td>5.07</td>\n",
              "      <td>5.4</td>\n",
              "      <td>107</td>\n",
              "      <td>43</td>\n",
              "      <td>78</td>\n",
              "      <td>No MetSyn</td>\n",
              "    </tr>\n",
              "    <tr>\n",
              "      <th>3</th>\n",
              "      <td>62172</td>\n",
              "      <td>43</td>\n",
              "      <td>Female</td>\n",
              "      <td>Single</td>\n",
              "      <td>2000.0</td>\n",
              "      <td>Black</td>\n",
              "      <td>120.4</td>\n",
              "      <td>33.3</td>\n",
              "      <td>0</td>\n",
              "      <td>5.22</td>\n",
              "      <td>5.0</td>\n",
              "      <td>104</td>\n",
              "      <td>73</td>\n",
              "      <td>141</td>\n",
              "      <td>No MetSyn</td>\n",
              "    </tr>\n",
              "    <tr>\n",
              "      <th>4</th>\n",
              "      <td>62177</td>\n",
              "      <td>51</td>\n",
              "      <td>Male</td>\n",
              "      <td>Married</td>\n",
              "      <td>NaN</td>\n",
              "      <td>Asian</td>\n",
              "      <td>81.1</td>\n",
              "      <td>20.1</td>\n",
              "      <td>0</td>\n",
              "      <td>8.13</td>\n",
              "      <td>5.0</td>\n",
              "      <td>95</td>\n",
              "      <td>43</td>\n",
              "      <td>126</td>\n",
              "      <td>No MetSyn</td>\n",
              "    </tr>\n",
              "  </tbody>\n",
              "</table>\n",
              "</div>\n",
              "      <button class=\"colab-df-convert\" onclick=\"convertToInteractive('df-1cd127c5-6845-42d1-b23d-30d2e62b9df5')\"\n",
              "              title=\"Convert this dataframe to an interactive table.\"\n",
              "              style=\"display:none;\">\n",
              "        \n",
              "  <svg xmlns=\"http://www.w3.org/2000/svg\" height=\"24px\"viewBox=\"0 0 24 24\"\n",
              "       width=\"24px\">\n",
              "    <path d=\"M0 0h24v24H0V0z\" fill=\"none\"/>\n",
              "    <path d=\"M18.56 5.44l.94 2.06.94-2.06 2.06-.94-2.06-.94-.94-2.06-.94 2.06-2.06.94zm-11 1L8.5 8.5l.94-2.06 2.06-.94-2.06-.94L8.5 2.5l-.94 2.06-2.06.94zm10 10l.94 2.06.94-2.06 2.06-.94-2.06-.94-.94-2.06-.94 2.06-2.06.94z\"/><path d=\"M17.41 7.96l-1.37-1.37c-.4-.4-.92-.59-1.43-.59-.52 0-1.04.2-1.43.59L10.3 9.45l-7.72 7.72c-.78.78-.78 2.05 0 2.83L4 21.41c.39.39.9.59 1.41.59.51 0 1.02-.2 1.41-.59l7.78-7.78 2.81-2.81c.8-.78.8-2.07 0-2.86zM5.41 20L4 18.59l7.72-7.72 1.47 1.35L5.41 20z\"/>\n",
              "  </svg>\n",
              "      </button>\n",
              "      \n",
              "  <style>\n",
              "    .colab-df-container {\n",
              "      display:flex;\n",
              "      flex-wrap:wrap;\n",
              "      gap: 12px;\n",
              "    }\n",
              "\n",
              "    .colab-df-convert {\n",
              "      background-color: #E8F0FE;\n",
              "      border: none;\n",
              "      border-radius: 50%;\n",
              "      cursor: pointer;\n",
              "      display: none;\n",
              "      fill: #1967D2;\n",
              "      height: 32px;\n",
              "      padding: 0 0 0 0;\n",
              "      width: 32px;\n",
              "    }\n",
              "\n",
              "    .colab-df-convert:hover {\n",
              "      background-color: #E2EBFA;\n",
              "      box-shadow: 0px 1px 2px rgba(60, 64, 67, 0.3), 0px 1px 3px 1px rgba(60, 64, 67, 0.15);\n",
              "      fill: #174EA6;\n",
              "    }\n",
              "\n",
              "    [theme=dark] .colab-df-convert {\n",
              "      background-color: #3B4455;\n",
              "      fill: #D2E3FC;\n",
              "    }\n",
              "\n",
              "    [theme=dark] .colab-df-convert:hover {\n",
              "      background-color: #434B5C;\n",
              "      box-shadow: 0px 1px 3px 1px rgba(0, 0, 0, 0.15);\n",
              "      filter: drop-shadow(0px 1px 2px rgba(0, 0, 0, 0.3));\n",
              "      fill: #FFFFFF;\n",
              "    }\n",
              "  </style>\n",
              "\n",
              "      <script>\n",
              "        const buttonEl =\n",
              "          document.querySelector('#df-1cd127c5-6845-42d1-b23d-30d2e62b9df5 button.colab-df-convert');\n",
              "        buttonEl.style.display =\n",
              "          google.colab.kernel.accessAllowed ? 'block' : 'none';\n",
              "\n",
              "        async function convertToInteractive(key) {\n",
              "          const element = document.querySelector('#df-1cd127c5-6845-42d1-b23d-30d2e62b9df5');\n",
              "          const dataTable =\n",
              "            await google.colab.kernel.invokeFunction('convertToInteractive',\n",
              "                                                     [key], {});\n",
              "          if (!dataTable) return;\n",
              "\n",
              "          const docLinkHtml = 'Like what you see? Visit the ' +\n",
              "            '<a target=\"_blank\" href=https://colab.research.google.com/notebooks/data_table.ipynb>data table notebook</a>'\n",
              "            + ' to learn more about interactive tables.';\n",
              "          element.innerHTML = '';\n",
              "          dataTable['output_type'] = 'display_data';\n",
              "          await google.colab.output.renderOutput(dataTable, element);\n",
              "          const docLink = document.createElement('div');\n",
              "          docLink.innerHTML = docLinkHtml;\n",
              "          element.appendChild(docLink);\n",
              "        }\n",
              "      </script>\n",
              "    </div>\n",
              "  </div>\n",
              "  "
            ]
          },
          "metadata": {},
          "execution_count": 21
        }
      ]
    },
    {
      "cell_type": "markdown",
      "source": [
        "#Project 2 Part 1"
      ],
      "metadata": {
        "id": "Rs3jrBmjs_Ha"
      }
    },
    {
      "cell_type": "markdown",
      "source": [
        "1. Source of data\n",
        "\n",
        "The data.world site from the preapproved list. https://data.world/informatics-edu/metabolic-syndrome-prediction\n",
        "\n",
        "2. Brief description of data\n",
        "\n",
        "This dataset will help me access the proprability that someone will get Metabolic Syndrome. Which could lead to other health conditions.\n",
        "\n",
        "3. What is the target?\n",
        "\n",
        "The target is Metabolic Syndrome\n",
        "\n",
        "4. What does one row represent? (A person?  A business?  An event? A product?)\n",
        "\n",
        "Each row represents a person who does or does not have the syndrome.\n",
        "\n",
        "5. Is this a classification or regression problem?\n",
        "\n",
        "This is a classifier because it's a yes or no question.\n",
        "\n",
        "6. How many features does the data have?\n",
        "\n",
        "The data has 13 features. I am not counting the seqn column it is not needed for the prediction.\n",
        "\n",
        "7. How many rows are in the dataset?\n",
        "\n",
        "There are 2401 rows.\n",
        "\n",
        "8. What, if any, challenges do you foresee in cleaning, exploring, or modeling this dataset?\n",
        "\n",
        "I see that ther is missingt data. I also need to encode the variables and scale the data. I plan on using classifier modeling , tuning of metric models(accuracy or recall) and GridSearch.\n"
      ],
      "metadata": {
        "id": "KrGNCvaMo4b4"
      }
    },
    {
      "cell_type": "markdown",
      "source": [
        "1. Source of data\n",
        "\n",
        "I selected this dataset from the approved list. https://www.kaggle.com/datasets/fedesoriano/stroke-prediction-dataset?resource=download\n",
        "\n",
        "2. Brief description of data\n",
        "\n",
        "This dataset will access me in predicting if a person will have a stroke based on this specific perameters.\n",
        "\n",
        "3. What is the target?\n",
        "\n",
        "The target will be stroke\n",
        "\n",
        "4. What does one row represent? (A person?  A business?  An event? A product?)\n",
        "\n",
        "The rows represent a person.\n",
        "\n",
        "5. Is this a classification or regression problem?\n",
        "\n",
        "This is a classification because its a yes or no problem.\n",
        "\n",
        "6. How many features does the data have?\n",
        "\n",
        "There are 10 featuyres. I am going to remove the id column, it is not needed for this prediction.\n",
        "\n",
        "7. How many rows are in the dataset?\n",
        "\n",
        "There are 5110 rows in this dataset.\n",
        "\n",
        "8. What, if any, challenges do you foresee in cleaning, exploring, or modeling this dataset?\n",
        "\n",
        "I have missing data to fix and will be imputing objects and scaling the numerical data. I plan on using classifier modeling , tuning of metric models(accuracy or recall) and GridSearch."
      ],
      "metadata": {
        "id": "v3TM6aKvr-Ct"
      }
    },
    {
      "cell_type": "markdown",
      "source": [
        "#Part 2"
      ],
      "metadata": {
        "id": "y_BYqHVJtF_Q"
      }
    },
    {
      "cell_type": "markdown",
      "source": [
        "##Cleaning data"
      ],
      "metadata": {
        "id": "thSsE8ObTRBT"
      }
    },
    {
      "cell_type": "markdown",
      "source": [
        "### Removed Duplicates"
      ],
      "metadata": {
        "id": "reIhHVMiTUZh"
      }
    },
    {
      "cell_type": "code",
      "source": [
        "#look for duplicates\n",
        "ms_df.duplicated().sum()"
      ],
      "metadata": {
        "colab": {
          "base_uri": "https://localhost:8080/"
        },
        "id": "4bYD_1FgtELI",
        "outputId": "d9db5635-502a-4b5a-e8b6-02a4330ec59d"
      },
      "execution_count": null,
      "outputs": [
        {
          "output_type": "execute_result",
          "data": {
            "text/plain": [
              "0"
            ]
          },
          "metadata": {},
          "execution_count": 22
        }
      ]
    },
    {
      "cell_type": "markdown",
      "source": [
        "### Looked at the data styles and for missing data."
      ],
      "metadata": {
        "id": "mfK2C4g-TY7c"
      }
    },
    {
      "cell_type": "code",
      "source": [
        "#Look at the Data styles and missing values\n",
        "ms_df.info()"
      ],
      "metadata": {
        "colab": {
          "base_uri": "https://localhost:8080/"
        },
        "id": "Az0XueGUSIe_",
        "outputId": "6c837051-950a-44c7-9755-380cb67ed3c9"
      },
      "execution_count": null,
      "outputs": [
        {
          "output_type": "stream",
          "name": "stdout",
          "text": [
            "<class 'pandas.core.frame.DataFrame'>\n",
            "RangeIndex: 2401 entries, 0 to 2400\n",
            "Data columns (total 15 columns):\n",
            " #   Column             Non-Null Count  Dtype  \n",
            "---  ------             --------------  -----  \n",
            " 0   seqn               2401 non-null   int64  \n",
            " 1   Age                2401 non-null   int64  \n",
            " 2   Sex                2401 non-null   object \n",
            " 3   Marital            2193 non-null   object \n",
            " 4   Income             2284 non-null   float64\n",
            " 5   Race               2401 non-null   object \n",
            " 6   WaistCirc          2316 non-null   float64\n",
            " 7   BMI                2375 non-null   float64\n",
            " 8   Albuminuria        2401 non-null   int64  \n",
            " 9   UrAlbCr            2401 non-null   float64\n",
            " 10  UricAcid           2401 non-null   float64\n",
            " 11  BloodGlucose       2401 non-null   int64  \n",
            " 12  HDL                2401 non-null   int64  \n",
            " 13  Triglycerides      2401 non-null   int64  \n",
            " 14  MetabolicSyndrome  2401 non-null   object \n",
            "dtypes: float64(5), int64(6), object(4)\n",
            "memory usage: 281.5+ KB\n"
          ]
        }
      ]
    },
    {
      "cell_type": "markdown",
      "source": [
        "### Looked to see the amount of missing data in each column."
      ],
      "metadata": {
        "id": "E0Ym3lT_ThH3"
      }
    },
    {
      "cell_type": "code",
      "source": [
        "#Look at how many missing values are in the dataset\n",
        "ms_df.isna().sum()"
      ],
      "metadata": {
        "colab": {
          "base_uri": "https://localhost:8080/"
        },
        "id": "Xpi7D7UutDAP",
        "outputId": "8b3b3436-ab16-4998-f028-f807382bcd32"
      },
      "execution_count": null,
      "outputs": [
        {
          "output_type": "execute_result",
          "data": {
            "text/plain": [
              "seqn                   0\n",
              "Age                    0\n",
              "Sex                    0\n",
              "Marital              208\n",
              "Income               117\n",
              "Race                   0\n",
              "WaistCirc             85\n",
              "BMI                   26\n",
              "Albuminuria            0\n",
              "UrAlbCr                0\n",
              "UricAcid               0\n",
              "BloodGlucose           0\n",
              "HDL                    0\n",
              "Triglycerides          0\n",
              "MetabolicSyndrome      0\n",
              "dtype: int64"
            ]
          },
          "metadata": {},
          "execution_count": 24
        }
      ]
    },
    {
      "cell_type": "markdown",
      "source": [
        "### Wanted to see if there were any outliers in the data."
      ],
      "metadata": {
        "id": "Yv6n0tYqToFb"
      }
    },
    {
      "cell_type": "code",
      "source": [
        "# I deleted the sequence number because it wont help me figure out my target and I removed Income because I do not believe that to be a factor right now. Maybe later for a different question.\n",
        "ms_df= ms_df.drop(columns=['seqn', 'Income','Marital'])\n",
        "ms_df.describe()"
      ],
      "metadata": {
        "colab": {
          "base_uri": "https://localhost:8080/",
          "height": 300
        },
        "id": "jROmTZP34pPg",
        "outputId": "70a431cc-dc50-48b0-e9e6-a5d5af98971e"
      },
      "execution_count": null,
      "outputs": [
        {
          "output_type": "execute_result",
          "data": {
            "text/plain": [
              "               Age    WaistCirc          BMI  Albuminuria      UrAlbCr  \\\n",
              "count  2401.000000  2316.000000  2375.000000  2401.000000  2401.000000   \n",
              "mean     48.691795    98.307254    28.702189     0.154102    43.626131   \n",
              "std      17.632852    16.252634     6.662242     0.422780   258.272829   \n",
              "min      20.000000    56.200000    13.400000     0.000000     1.400000   \n",
              "25%      34.000000    86.675000    24.000000     0.000000     4.450000   \n",
              "50%      48.000000    97.000000    27.700000     0.000000     7.070000   \n",
              "75%      63.000000   107.625000    32.100000     0.000000    13.690000   \n",
              "max      80.000000   176.000000    68.700000     2.000000  5928.000000   \n",
              "\n",
              "          UricAcid  BloodGlucose          HDL  Triglycerides  \n",
              "count  2401.000000   2401.000000  2401.000000    2401.000000  \n",
              "mean      5.489046    108.247813    53.369429     128.125364  \n",
              "std       1.439358     34.820657    15.185537      95.322477  \n",
              "min       1.800000     39.000000    14.000000      26.000000  \n",
              "25%       4.500000     92.000000    43.000000      75.000000  \n",
              "50%       5.400000     99.000000    51.000000     103.000000  \n",
              "75%       6.400000    110.000000    62.000000     150.000000  \n",
              "max      11.300000    382.000000   156.000000    1562.000000  "
            ],
            "text/html": [
              "\n",
              "  <div id=\"df-760e1bba-049e-4d83-9a7f-d195693e9a68\">\n",
              "    <div class=\"colab-df-container\">\n",
              "      <div>\n",
              "<style scoped>\n",
              "    .dataframe tbody tr th:only-of-type {\n",
              "        vertical-align: middle;\n",
              "    }\n",
              "\n",
              "    .dataframe tbody tr th {\n",
              "        vertical-align: top;\n",
              "    }\n",
              "\n",
              "    .dataframe thead th {\n",
              "        text-align: right;\n",
              "    }\n",
              "</style>\n",
              "<table border=\"1\" class=\"dataframe\">\n",
              "  <thead>\n",
              "    <tr style=\"text-align: right;\">\n",
              "      <th></th>\n",
              "      <th>Age</th>\n",
              "      <th>WaistCirc</th>\n",
              "      <th>BMI</th>\n",
              "      <th>Albuminuria</th>\n",
              "      <th>UrAlbCr</th>\n",
              "      <th>UricAcid</th>\n",
              "      <th>BloodGlucose</th>\n",
              "      <th>HDL</th>\n",
              "      <th>Triglycerides</th>\n",
              "    </tr>\n",
              "  </thead>\n",
              "  <tbody>\n",
              "    <tr>\n",
              "      <th>count</th>\n",
              "      <td>2401.000000</td>\n",
              "      <td>2316.000000</td>\n",
              "      <td>2375.000000</td>\n",
              "      <td>2401.000000</td>\n",
              "      <td>2401.000000</td>\n",
              "      <td>2401.000000</td>\n",
              "      <td>2401.000000</td>\n",
              "      <td>2401.000000</td>\n",
              "      <td>2401.000000</td>\n",
              "    </tr>\n",
              "    <tr>\n",
              "      <th>mean</th>\n",
              "      <td>48.691795</td>\n",
              "      <td>98.307254</td>\n",
              "      <td>28.702189</td>\n",
              "      <td>0.154102</td>\n",
              "      <td>43.626131</td>\n",
              "      <td>5.489046</td>\n",
              "      <td>108.247813</td>\n",
              "      <td>53.369429</td>\n",
              "      <td>128.125364</td>\n",
              "    </tr>\n",
              "    <tr>\n",
              "      <th>std</th>\n",
              "      <td>17.632852</td>\n",
              "      <td>16.252634</td>\n",
              "      <td>6.662242</td>\n",
              "      <td>0.422780</td>\n",
              "      <td>258.272829</td>\n",
              "      <td>1.439358</td>\n",
              "      <td>34.820657</td>\n",
              "      <td>15.185537</td>\n",
              "      <td>95.322477</td>\n",
              "    </tr>\n",
              "    <tr>\n",
              "      <th>min</th>\n",
              "      <td>20.000000</td>\n",
              "      <td>56.200000</td>\n",
              "      <td>13.400000</td>\n",
              "      <td>0.000000</td>\n",
              "      <td>1.400000</td>\n",
              "      <td>1.800000</td>\n",
              "      <td>39.000000</td>\n",
              "      <td>14.000000</td>\n",
              "      <td>26.000000</td>\n",
              "    </tr>\n",
              "    <tr>\n",
              "      <th>25%</th>\n",
              "      <td>34.000000</td>\n",
              "      <td>86.675000</td>\n",
              "      <td>24.000000</td>\n",
              "      <td>0.000000</td>\n",
              "      <td>4.450000</td>\n",
              "      <td>4.500000</td>\n",
              "      <td>92.000000</td>\n",
              "      <td>43.000000</td>\n",
              "      <td>75.000000</td>\n",
              "    </tr>\n",
              "    <tr>\n",
              "      <th>50%</th>\n",
              "      <td>48.000000</td>\n",
              "      <td>97.000000</td>\n",
              "      <td>27.700000</td>\n",
              "      <td>0.000000</td>\n",
              "      <td>7.070000</td>\n",
              "      <td>5.400000</td>\n",
              "      <td>99.000000</td>\n",
              "      <td>51.000000</td>\n",
              "      <td>103.000000</td>\n",
              "    </tr>\n",
              "    <tr>\n",
              "      <th>75%</th>\n",
              "      <td>63.000000</td>\n",
              "      <td>107.625000</td>\n",
              "      <td>32.100000</td>\n",
              "      <td>0.000000</td>\n",
              "      <td>13.690000</td>\n",
              "      <td>6.400000</td>\n",
              "      <td>110.000000</td>\n",
              "      <td>62.000000</td>\n",
              "      <td>150.000000</td>\n",
              "    </tr>\n",
              "    <tr>\n",
              "      <th>max</th>\n",
              "      <td>80.000000</td>\n",
              "      <td>176.000000</td>\n",
              "      <td>68.700000</td>\n",
              "      <td>2.000000</td>\n",
              "      <td>5928.000000</td>\n",
              "      <td>11.300000</td>\n",
              "      <td>382.000000</td>\n",
              "      <td>156.000000</td>\n",
              "      <td>1562.000000</td>\n",
              "    </tr>\n",
              "  </tbody>\n",
              "</table>\n",
              "</div>\n",
              "      <button class=\"colab-df-convert\" onclick=\"convertToInteractive('df-760e1bba-049e-4d83-9a7f-d195693e9a68')\"\n",
              "              title=\"Convert this dataframe to an interactive table.\"\n",
              "              style=\"display:none;\">\n",
              "        \n",
              "  <svg xmlns=\"http://www.w3.org/2000/svg\" height=\"24px\"viewBox=\"0 0 24 24\"\n",
              "       width=\"24px\">\n",
              "    <path d=\"M0 0h24v24H0V0z\" fill=\"none\"/>\n",
              "    <path d=\"M18.56 5.44l.94 2.06.94-2.06 2.06-.94-2.06-.94-.94-2.06-.94 2.06-2.06.94zm-11 1L8.5 8.5l.94-2.06 2.06-.94-2.06-.94L8.5 2.5l-.94 2.06-2.06.94zm10 10l.94 2.06.94-2.06 2.06-.94-2.06-.94-.94-2.06-.94 2.06-2.06.94z\"/><path d=\"M17.41 7.96l-1.37-1.37c-.4-.4-.92-.59-1.43-.59-.52 0-1.04.2-1.43.59L10.3 9.45l-7.72 7.72c-.78.78-.78 2.05 0 2.83L4 21.41c.39.39.9.59 1.41.59.51 0 1.02-.2 1.41-.59l7.78-7.78 2.81-2.81c.8-.78.8-2.07 0-2.86zM5.41 20L4 18.59l7.72-7.72 1.47 1.35L5.41 20z\"/>\n",
              "  </svg>\n",
              "      </button>\n",
              "      \n",
              "  <style>\n",
              "    .colab-df-container {\n",
              "      display:flex;\n",
              "      flex-wrap:wrap;\n",
              "      gap: 12px;\n",
              "    }\n",
              "\n",
              "    .colab-df-convert {\n",
              "      background-color: #E8F0FE;\n",
              "      border: none;\n",
              "      border-radius: 50%;\n",
              "      cursor: pointer;\n",
              "      display: none;\n",
              "      fill: #1967D2;\n",
              "      height: 32px;\n",
              "      padding: 0 0 0 0;\n",
              "      width: 32px;\n",
              "    }\n",
              "\n",
              "    .colab-df-convert:hover {\n",
              "      background-color: #E2EBFA;\n",
              "      box-shadow: 0px 1px 2px rgba(60, 64, 67, 0.3), 0px 1px 3px 1px rgba(60, 64, 67, 0.15);\n",
              "      fill: #174EA6;\n",
              "    }\n",
              "\n",
              "    [theme=dark] .colab-df-convert {\n",
              "      background-color: #3B4455;\n",
              "      fill: #D2E3FC;\n",
              "    }\n",
              "\n",
              "    [theme=dark] .colab-df-convert:hover {\n",
              "      background-color: #434B5C;\n",
              "      box-shadow: 0px 1px 3px 1px rgba(0, 0, 0, 0.15);\n",
              "      filter: drop-shadow(0px 1px 2px rgba(0, 0, 0, 0.3));\n",
              "      fill: #FFFFFF;\n",
              "    }\n",
              "  </style>\n",
              "\n",
              "      <script>\n",
              "        const buttonEl =\n",
              "          document.querySelector('#df-760e1bba-049e-4d83-9a7f-d195693e9a68 button.colab-df-convert');\n",
              "        buttonEl.style.display =\n",
              "          google.colab.kernel.accessAllowed ? 'block' : 'none';\n",
              "\n",
              "        async function convertToInteractive(key) {\n",
              "          const element = document.querySelector('#df-760e1bba-049e-4d83-9a7f-d195693e9a68');\n",
              "          const dataTable =\n",
              "            await google.colab.kernel.invokeFunction('convertToInteractive',\n",
              "                                                     [key], {});\n",
              "          if (!dataTable) return;\n",
              "\n",
              "          const docLinkHtml = 'Like what you see? Visit the ' +\n",
              "            '<a target=\"_blank\" href=https://colab.research.google.com/notebooks/data_table.ipynb>data table notebook</a>'\n",
              "            + ' to learn more about interactive tables.';\n",
              "          element.innerHTML = '';\n",
              "          dataTable['output_type'] = 'display_data';\n",
              "          await google.colab.output.renderOutput(dataTable, element);\n",
              "          const docLink = document.createElement('div');\n",
              "          docLink.innerHTML = docLinkHtml;\n",
              "          element.appendChild(docLink);\n",
              "        }\n",
              "      </script>\n",
              "    </div>\n",
              "  </div>\n",
              "  "
            ]
          },
          "metadata": {},
          "execution_count": 25
        }
      ]
    },
    {
      "cell_type": "markdown",
      "source": [
        "###Looking for any unique values that shouldnt be there."
      ],
      "metadata": {
        "id": "-qTvzxPhW54n"
      }
    },
    {
      "cell_type": "code",
      "source": [
        "ms_df.nunique()"
      ],
      "metadata": {
        "colab": {
          "base_uri": "https://localhost:8080/"
        },
        "id": "3o08wcvcDjY3",
        "outputId": "bed88c45-1304-4780-e574-a4ff16f0e6aa"
      },
      "execution_count": null,
      "outputs": [
        {
          "output_type": "execute_result",
          "data": {
            "text/plain": [
              "Age                    61\n",
              "Sex                     2\n",
              "Race                    6\n",
              "WaistCirc             635\n",
              "BMI                   322\n",
              "Albuminuria             3\n",
              "UrAlbCr              1383\n",
              "UricAcid               88\n",
              "BloodGlucose          187\n",
              "HDL                    93\n",
              "Triglycerides         345\n",
              "MetabolicSyndrome       2\n",
              "dtype: int64"
            ]
          },
          "metadata": {},
          "execution_count": 26
        }
      ]
    },
    {
      "cell_type": "markdown",
      "source": [
        "### Looiking at any incorrect values in the Sex column"
      ],
      "metadata": {
        "id": "ofU-vS-lWEaE"
      }
    },
    {
      "cell_type": "code",
      "source": [
        "ms_df['Sex'].value_counts()"
      ],
      "metadata": {
        "colab": {
          "base_uri": "https://localhost:8080/"
        },
        "id": "6O4fFhIuCtnQ",
        "outputId": "2e861dea-e9cf-4bd0-f103-bb268dfada35"
      },
      "execution_count": null,
      "outputs": [
        {
          "output_type": "execute_result",
          "data": {
            "text/plain": [
              "Female    1211\n",
              "Male      1190\n",
              "Name: Sex, dtype: int64"
            ]
          },
          "metadata": {},
          "execution_count": 27
        }
      ]
    },
    {
      "cell_type": "markdown",
      "source": [
        "### Looiking at any incorrect values in the Race column"
      ],
      "metadata": {
        "id": "wULWU8aiV4GZ"
      }
    },
    {
      "cell_type": "code",
      "source": [
        "ms_df['Race'].value_counts()"
      ],
      "metadata": {
        "colab": {
          "base_uri": "https://localhost:8080/"
        },
        "id": "aBQsZ2XDCt6L",
        "outputId": "84b4cbab-148f-41d8-b102-4f93a035ccbe"
      },
      "execution_count": null,
      "outputs": [
        {
          "output_type": "execute_result",
          "data": {
            "text/plain": [
              "White          933\n",
              "Black          548\n",
              "Asian          349\n",
              "Hispanic       257\n",
              "MexAmerican    253\n",
              "Other           61\n",
              "Name: Race, dtype: int64"
            ]
          },
          "metadata": {},
          "execution_count": 28
        }
      ]
    },
    {
      "cell_type": "markdown",
      "source": [
        "### Made a copied dataset"
      ],
      "metadata": {
        "id": "K0PUELvGTwXv"
      }
    },
    {
      "cell_type": "code",
      "source": [
        "df = ms_df.copy()"
      ],
      "metadata": {
        "id": "AZ8XBlJ0Sjbo"
      },
      "execution_count": null,
      "outputs": []
    },
    {
      "cell_type": "markdown",
      "source": [
        "### Looking at the difference in classes of the dataset's target"
      ],
      "metadata": {
        "id": "UZkMiAQbU6hv"
      }
    },
    {
      "cell_type": "code",
      "source": [
        "df['MetabolicSyndrome'].value_counts(normalize = False)"
      ],
      "metadata": {
        "colab": {
          "base_uri": "https://localhost:8080/"
        },
        "id": "qSIf9F1SUDXP",
        "outputId": "dcb0f4c2-2dad-4d2a-ba50-78649d8e58b4"
      },
      "execution_count": null,
      "outputs": [
        {
          "output_type": "execute_result",
          "data": {
            "text/plain": [
              "No MetSyn    1579\n",
              "MetSyn        822\n",
              "Name: MetabolicSyndrome, dtype: int64"
            ]
          },
          "metadata": {},
          "execution_count": 30
        }
      ]
    },
    {
      "cell_type": "markdown",
      "source": [
        "### Looking at the percentage difference between the classes."
      ],
      "metadata": {
        "id": "0WutDHBIVBWW"
      }
    },
    {
      "cell_type": "code",
      "source": [
        "df['MetabolicSyndrome'].value_counts(normalize= True)"
      ],
      "metadata": {
        "colab": {
          "base_uri": "https://localhost:8080/"
        },
        "id": "bYmkPub4UwZt",
        "outputId": "3214ddbe-f6dc-424a-f1f9-2bb0ca0cf8e4"
      },
      "execution_count": null,
      "outputs": [
        {
          "output_type": "execute_result",
          "data": {
            "text/plain": [
              "No MetSyn    0.657643\n",
              "MetSyn       0.342357\n",
              "Name: MetabolicSyndrome, dtype: float64"
            ]
          },
          "metadata": {},
          "execution_count": 31
        }
      ]
    },
    {
      "cell_type": "markdown",
      "source": [
        "## Split data"
      ],
      "metadata": {
        "id": "6pIRAjc6VQCR"
      }
    },
    {
      "cell_type": "markdown",
      "source": [
        "###My target is Metabolic Syndrome"
      ],
      "metadata": {
        "id": "cbwa6ssYa4ua"
      }
    },
    {
      "cell_type": "code",
      "source": [
        "target = 'MetabolicSyndrome'\n",
        "X = df.drop(columns = [target])\n",
        "y = df[target]"
      ],
      "metadata": {
        "id": "ps3aAkzyVPfk"
      },
      "execution_count": null,
      "outputs": []
    },
    {
      "cell_type": "markdown",
      "source": [
        "### Split train"
      ],
      "metadata": {
        "id": "HHPtkVYMbDcJ"
      }
    },
    {
      "cell_type": "code",
      "source": [
        "X_train, X_test, y_train, y_test = train_test_split(X, y, random_state=42)"
      ],
      "metadata": {
        "id": "d1HGxgRLVN0a"
      },
      "execution_count": null,
      "outputs": []
    },
    {
      "cell_type": "markdown",
      "source": [
        "#Set the Instantiate, Imputers, Transformers, Tupils and Pipelines.\n",
        "\n",
        "Used the mean imputer for the missing number values and I did not use an imputer for the object columns because we don't have any missing data there."
      ],
      "metadata": {
        "id": "_LNnhmXUXReK"
      }
    },
    {
      "cell_type": "code",
      "source": [
        "scaler = StandardScaler()\n",
        "ohe = OneHotEncoder(sparse_output=False, handle_unknown='ignore')\n",
        "\n",
        "num_selector = make_column_selector(dtype_include='number')\n",
        "cat_selector = make_column_selector(dtype_include= 'object')\n",
        "\n",
        "mean_imputer = SimpleImputer(strategy='mean')\n",
        "\n",
        "num_pipe = make_pipeline(mean_imputer, scaler)\n",
        "cat_pipe = make_pipeline(ohe)\n",
        "\n",
        "num_tuple = (num_pipe, num_selector)\n",
        "cat_tuple = (cat_pipe, cat_selector)\n",
        "\n",
        "preprocessor = make_column_transformer(num_tuple, cat_tuple, remainder='drop')\n",
        "preprocessor.fit(X_train, y_train)"
      ],
      "metadata": {
        "colab": {
          "base_uri": "https://localhost:8080/",
          "height": 153
        },
        "id": "O9pUSFV1XPtq",
        "outputId": "3ea8681f-7a07-4df4-9391-289ccef4dc8c"
      },
      "execution_count": null,
      "outputs": [
        {
          "output_type": "execute_result",
          "data": {
            "text/plain": [
              "ColumnTransformer(transformers=[('pipeline-1',\n",
              "                                 Pipeline(steps=[('simpleimputer',\n",
              "                                                  SimpleImputer()),\n",
              "                                                 ('standardscaler',\n",
              "                                                  StandardScaler())]),\n",
              "                                 <sklearn.compose._column_transformer.make_column_selector object at 0x7ff081ca3e50>),\n",
              "                                ('pipeline-2',\n",
              "                                 Pipeline(steps=[('onehotencoder',\n",
              "                                                  OneHotEncoder(handle_unknown='ignore',\n",
              "                                                                sparse_output=False))]),\n",
              "                                 <sklearn.compose._column_transformer.make_column_selector object at 0x7ff081ca3700>)])"
            ],
            "text/html": [
              "<style>#sk-container-id-2 {color: black;background-color: white;}#sk-container-id-2 pre{padding: 0;}#sk-container-id-2 div.sk-toggleable {background-color: white;}#sk-container-id-2 label.sk-toggleable__label {cursor: pointer;display: block;width: 100%;margin-bottom: 0;padding: 0.3em;box-sizing: border-box;text-align: center;}#sk-container-id-2 label.sk-toggleable__label-arrow:before {content: \"▸\";float: left;margin-right: 0.25em;color: #696969;}#sk-container-id-2 label.sk-toggleable__label-arrow:hover:before {color: black;}#sk-container-id-2 div.sk-estimator:hover label.sk-toggleable__label-arrow:before {color: black;}#sk-container-id-2 div.sk-toggleable__content {max-height: 0;max-width: 0;overflow: hidden;text-align: left;background-color: #f0f8ff;}#sk-container-id-2 div.sk-toggleable__content pre {margin: 0.2em;color: black;border-radius: 0.25em;background-color: #f0f8ff;}#sk-container-id-2 input.sk-toggleable__control:checked~div.sk-toggleable__content {max-height: 200px;max-width: 100%;overflow: auto;}#sk-container-id-2 input.sk-toggleable__control:checked~label.sk-toggleable__label-arrow:before {content: \"▾\";}#sk-container-id-2 div.sk-estimator input.sk-toggleable__control:checked~label.sk-toggleable__label {background-color: #d4ebff;}#sk-container-id-2 div.sk-label input.sk-toggleable__control:checked~label.sk-toggleable__label {background-color: #d4ebff;}#sk-container-id-2 input.sk-hidden--visually {border: 0;clip: rect(1px 1px 1px 1px);clip: rect(1px, 1px, 1px, 1px);height: 1px;margin: -1px;overflow: hidden;padding: 0;position: absolute;width: 1px;}#sk-container-id-2 div.sk-estimator {font-family: monospace;background-color: #f0f8ff;border: 1px dotted black;border-radius: 0.25em;box-sizing: border-box;margin-bottom: 0.5em;}#sk-container-id-2 div.sk-estimator:hover {background-color: #d4ebff;}#sk-container-id-2 div.sk-parallel-item::after {content: \"\";width: 100%;border-bottom: 1px solid gray;flex-grow: 1;}#sk-container-id-2 div.sk-label:hover label.sk-toggleable__label {background-color: #d4ebff;}#sk-container-id-2 div.sk-serial::before {content: \"\";position: absolute;border-left: 1px solid gray;box-sizing: border-box;top: 0;bottom: 0;left: 50%;z-index: 0;}#sk-container-id-2 div.sk-serial {display: flex;flex-direction: column;align-items: center;background-color: white;padding-right: 0.2em;padding-left: 0.2em;position: relative;}#sk-container-id-2 div.sk-item {position: relative;z-index: 1;}#sk-container-id-2 div.sk-parallel {display: flex;align-items: stretch;justify-content: center;background-color: white;position: relative;}#sk-container-id-2 div.sk-item::before, #sk-container-id-2 div.sk-parallel-item::before {content: \"\";position: absolute;border-left: 1px solid gray;box-sizing: border-box;top: 0;bottom: 0;left: 50%;z-index: -1;}#sk-container-id-2 div.sk-parallel-item {display: flex;flex-direction: column;z-index: 1;position: relative;background-color: white;}#sk-container-id-2 div.sk-parallel-item:first-child::after {align-self: flex-end;width: 50%;}#sk-container-id-2 div.sk-parallel-item:last-child::after {align-self: flex-start;width: 50%;}#sk-container-id-2 div.sk-parallel-item:only-child::after {width: 0;}#sk-container-id-2 div.sk-dashed-wrapped {border: 1px dashed gray;margin: 0 0.4em 0.5em 0.4em;box-sizing: border-box;padding-bottom: 0.4em;background-color: white;}#sk-container-id-2 div.sk-label label {font-family: monospace;font-weight: bold;display: inline-block;line-height: 1.2em;}#sk-container-id-2 div.sk-label-container {text-align: center;}#sk-container-id-2 div.sk-container {/* jupyter's `normalize.less` sets `[hidden] { display: none; }` but bootstrap.min.css set `[hidden] { display: none !important; }` so we also need the `!important` here to be able to override the default hidden behavior on the sphinx rendered scikit-learn.org. See: https://github.com/scikit-learn/scikit-learn/issues/21755 */display: inline-block !important;position: relative;}#sk-container-id-2 div.sk-text-repr-fallback {display: none;}</style><div id=\"sk-container-id-2\" class=\"sk-top-container\"><div class=\"sk-text-repr-fallback\"><pre>ColumnTransformer(transformers=[(&#x27;pipeline-1&#x27;,\n",
              "                                 Pipeline(steps=[(&#x27;simpleimputer&#x27;,\n",
              "                                                  SimpleImputer()),\n",
              "                                                 (&#x27;standardscaler&#x27;,\n",
              "                                                  StandardScaler())]),\n",
              "                                 &lt;sklearn.compose._column_transformer.make_column_selector object at 0x7ff081ca3e50&gt;),\n",
              "                                (&#x27;pipeline-2&#x27;,\n",
              "                                 Pipeline(steps=[(&#x27;onehotencoder&#x27;,\n",
              "                                                  OneHotEncoder(handle_unknown=&#x27;ignore&#x27;,\n",
              "                                                                sparse_output=False))]),\n",
              "                                 &lt;sklearn.compose._column_transformer.make_column_selector object at 0x7ff081ca3700&gt;)])</pre><b>In a Jupyter environment, please rerun this cell to show the HTML representation or trust the notebook. <br />On GitHub, the HTML representation is unable to render, please try loading this page with nbviewer.org.</b></div><div class=\"sk-container\" hidden><div class=\"sk-item sk-dashed-wrapped\"><div class=\"sk-label-container\"><div class=\"sk-label sk-toggleable\"><input class=\"sk-toggleable__control sk-hidden--visually\" id=\"sk-estimator-id-8\" type=\"checkbox\" ><label for=\"sk-estimator-id-8\" class=\"sk-toggleable__label sk-toggleable__label-arrow\">ColumnTransformer</label><div class=\"sk-toggleable__content\"><pre>ColumnTransformer(transformers=[(&#x27;pipeline-1&#x27;,\n",
              "                                 Pipeline(steps=[(&#x27;simpleimputer&#x27;,\n",
              "                                                  SimpleImputer()),\n",
              "                                                 (&#x27;standardscaler&#x27;,\n",
              "                                                  StandardScaler())]),\n",
              "                                 &lt;sklearn.compose._column_transformer.make_column_selector object at 0x7ff081ca3e50&gt;),\n",
              "                                (&#x27;pipeline-2&#x27;,\n",
              "                                 Pipeline(steps=[(&#x27;onehotencoder&#x27;,\n",
              "                                                  OneHotEncoder(handle_unknown=&#x27;ignore&#x27;,\n",
              "                                                                sparse_output=False))]),\n",
              "                                 &lt;sklearn.compose._column_transformer.make_column_selector object at 0x7ff081ca3700&gt;)])</pre></div></div></div><div class=\"sk-parallel\"><div class=\"sk-parallel-item\"><div class=\"sk-item\"><div class=\"sk-label-container\"><div class=\"sk-label sk-toggleable\"><input class=\"sk-toggleable__control sk-hidden--visually\" id=\"sk-estimator-id-9\" type=\"checkbox\" ><label for=\"sk-estimator-id-9\" class=\"sk-toggleable__label sk-toggleable__label-arrow\">pipeline-1</label><div class=\"sk-toggleable__content\"><pre>&lt;sklearn.compose._column_transformer.make_column_selector object at 0x7ff081ca3e50&gt;</pre></div></div></div><div class=\"sk-serial\"><div class=\"sk-item\"><div class=\"sk-serial\"><div class=\"sk-item\"><div class=\"sk-estimator sk-toggleable\"><input class=\"sk-toggleable__control sk-hidden--visually\" id=\"sk-estimator-id-10\" type=\"checkbox\" ><label for=\"sk-estimator-id-10\" class=\"sk-toggleable__label sk-toggleable__label-arrow\">SimpleImputer</label><div class=\"sk-toggleable__content\"><pre>SimpleImputer()</pre></div></div></div><div class=\"sk-item\"><div class=\"sk-estimator sk-toggleable\"><input class=\"sk-toggleable__control sk-hidden--visually\" id=\"sk-estimator-id-11\" type=\"checkbox\" ><label for=\"sk-estimator-id-11\" class=\"sk-toggleable__label sk-toggleable__label-arrow\">StandardScaler</label><div class=\"sk-toggleable__content\"><pre>StandardScaler()</pre></div></div></div></div></div></div></div></div><div class=\"sk-parallel-item\"><div class=\"sk-item\"><div class=\"sk-label-container\"><div class=\"sk-label sk-toggleable\"><input class=\"sk-toggleable__control sk-hidden--visually\" id=\"sk-estimator-id-12\" type=\"checkbox\" ><label for=\"sk-estimator-id-12\" class=\"sk-toggleable__label sk-toggleable__label-arrow\">pipeline-2</label><div class=\"sk-toggleable__content\"><pre>&lt;sklearn.compose._column_transformer.make_column_selector object at 0x7ff081ca3700&gt;</pre></div></div></div><div class=\"sk-serial\"><div class=\"sk-item\"><div class=\"sk-serial\"><div class=\"sk-item\"><div class=\"sk-estimator sk-toggleable\"><input class=\"sk-toggleable__control sk-hidden--visually\" id=\"sk-estimator-id-13\" type=\"checkbox\" ><label for=\"sk-estimator-id-13\" class=\"sk-toggleable__label sk-toggleable__label-arrow\">OneHotEncoder</label><div class=\"sk-toggleable__content\"><pre>OneHotEncoder(handle_unknown=&#x27;ignore&#x27;, sparse_output=False)</pre></div></div></div></div></div></div></div></div></div></div></div></div>"
            ]
          },
          "metadata": {},
          "execution_count": 34
        }
      ]
    },
    {
      "cell_type": "markdown",
      "source": [
        "#Exploring data with Visuals."
      ],
      "metadata": {
        "id": "2JzMO9iJcqPj"
      }
    },
    {
      "cell_type": "code",
      "source": [
        "sns.boxplot(x= 'Sex', y='BMI', data= df)"
      ],
      "metadata": {
        "colab": {
          "base_uri": "https://localhost:8080/",
          "height": 297
        },
        "id": "EosM52g8YjuB",
        "outputId": "3be81ecb-c840-44e6-dfcc-5f6015c065d4"
      },
      "execution_count": null,
      "outputs": [
        {
          "output_type": "execute_result",
          "data": {
            "text/plain": [
              "<Axes: xlabel='Sex', ylabel='BMI'>"
            ]
          },
          "metadata": {},
          "execution_count": 43
        },
        {
          "output_type": "display_data",
          "data": {
            "text/plain": [
              "<Figure size 432x288 with 1 Axes>"
            ],
            "image/png": "[encoded data removed]"
          },
          "metadata": {
            "needs_background": "light"
          }
        }
      ]
    },
    {
      "cell_type": "markdown",
      "source": [
        "###Females have a higher BMI than males with more outliers in the female sex."
      ],
      "metadata": {
        "id": "9_IqsTxFdaxI"
      }
    },
    {
      "cell_type": "code",
      "source": [
        "sns.set(rc={'figure.figsize':(30,10)})\n",
        "sns.barplot(data=df, x= 'Age', y= 'BloodGlucose');"
      ],
      "metadata": {
        "colab": {
          "base_uri": "https://localhost:8080/",
          "height": 611
        },
        "id": "shMd4Y68gSNc",
        "outputId": "71a31380-6b73-4a8c-ad35-d4bda0e21068"
      },
      "execution_count": null,
      "outputs": [
        {
          "output_type": "display_data",
          "data": {
            "text/plain": [
              "<Figure size 2160x720 with 1 Axes>"
            ],
            "image/png": "[encoded data removed]"
          },
          "metadata": {}
        }
      ]
    },
    {
      "cell_type": "markdown",
      "source": [
        "![image.png](data:image/png;base64,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)"
      ],
      "metadata": {
        "id": "GZqj5rSnixR-"
      }
    },
    {
      "cell_type": "markdown",
      "source": [
        "###Comparing the Bar graft with the Chart you can see that most of the people on the list had diabetes or were prediabetics. Informational chart sourced from diabeticmealsplans.com (https://diabetesmealplans.com/5080/diabetes-blood-sugar-levels-chart-printable/) "
      ],
      "metadata": {
        "id": "XygBD4G7iyj0"
      }
    }
  ]
}